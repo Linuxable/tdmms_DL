{
 "cells": [
  {
   "cell_type": "markdown",
   "metadata": {},
   "source": [
    "## **Inspect Model**"
   ]
  },
  {
   "cell_type": "markdown",
   "metadata": {},
   "source": [
    "### **Imports**"
   ]
  },
  {
   "cell_type": "code",
   "execution_count": 1,
   "metadata": {},
   "outputs": [
    {
     "name": "stdout",
     "output_type": "stream",
     "text": [
      "Root directory: c:\\Users\\abell\\Documents\\aa_delft\\J4\\BEP\\ai\n"
     ]
    }
   ],
   "source": [
    "import warnings\n",
    "warnings.filterwarnings('ignore')\n",
    "\n",
    "import os\n",
    "import sys\n",
    "\n",
    "ROOT_DIR = os.path.abspath(\"../\")\n",
    "print('Root directory:',ROOT_DIR)\n",
    "\n",
    "sys.path.append(ROOT_DIR)\n",
    "import mrcnn.model as modellib\n",
    "\n",
    "import tdmms.tdmcoco as tdmcoco\n",
    "\n",
    "%matplotlib inline \n",
    "\n",
    "LOGS_DIR = os.path.join(ROOT_DIR, \"logs\", \"inspect\")\n",
    "\n",
    "if not os.path.exists(LOGS_DIR):\n",
    "    os.makedirs(LOGS_DIR)\n",
    "    print(f\"Folder '{LOGS_DIR}' created.\")"
   ]
  },
  {
   "cell_type": "code",
   "execution_count": 2,
   "metadata": {},
   "outputs": [],
   "source": [
    "%load_ext autoreload\n",
    "%autoreload 2\n",
    "import bep.utils as utils\n",
    "from bep.dataset import bepDataset"
   ]
  },
  {
   "cell_type": "markdown",
   "metadata": {},
   "source": [
    "### **Load data**"
   ]
  },
  {
   "cell_type": "code",
   "execution_count": 3,
   "metadata": {},
   "outputs": [],
   "source": [
    "dataset = 'data_simp_afm'\n",
    "use_bs = True"
   ]
  },
  {
   "cell_type": "code",
   "execution_count": 4,
   "metadata": {},
   "outputs": [
    {
     "name": "stdout",
     "output_type": "stream",
     "text": [
      "Directory setup correctly\n",
      "BEP Train NbSe2 images: 199 | Classes: ['BG', 'Mono_NbSe2', 'Few_NbSe2', 'Thick_NbSe2']\n",
      "BEP Val NbSe2 images: 25 | Classes: ['BG', 'Mono_NbSe2', 'Few_NbSe2', 'Thick_NbSe2']\n",
      "BEP Test NbSe2 images: 25 | Classes: ['BG', 'Mono_NbSe2', 'Few_NbSe2', 'Thick_NbSe2']\n"
     ]
    }
   ],
   "source": [
    "utils.check_dir_setup((0.8, 0.1, 0.1), dataset, use_bs)\n",
    "\n",
    "train, val, test = utils.load_train_val_datasets(dataset, use_bs=use_bs)\n",
    "\n",
    "print(\"BEP Train NbSe2 images: {} | Classes: {}\".format(len(train.image_ids), train.class_names))\n",
    "print(\"BEP Val NbSe2 images: {} | Classes: {}\".format(len(val.image_ids), val.class_names))\n",
    "print(\"BEP Test NbSe2 images: {} | Classes: {}\".format(len(test.image_ids), test.class_names))"
   ]
  },
  {
   "cell_type": "markdown",
   "metadata": {},
   "source": [
    "### **Load Model**"
   ]
  },
  {
   "cell_type": "code",
   "execution_count": 48,
   "metadata": {
    "collapsed": true,
    "scrolled": false
   },
   "outputs": [
    {
     "name": "stdout",
     "output_type": "stream",
     "text": [
      "NbSe2 Model, loading weights c:\\Users\\abell\\Documents\\aa_delft\\J4\\BEP\\ai\\weights\\20250111-174347_nbse2_simp_bn_True_224_4__0118.h5\n"
     ]
    }
   ],
   "source": [
    "config = tdmcoco.CocoConfig()\n",
    "\n",
    "class InferenceConfig(config.__class__):\n",
    "    # Run detection on one image at a time\n",
    "    GPU_COUNT = 1\n",
    "    IMAGES_PER_GPU = 1\n",
    "    NUM_CLASSES = 1 + 3 + 0 # thin, few, thick, massive\n",
    "    DETECTION_MIN_CONFIDENCE = 0.7\n",
    "    USE_MINI_MASK = False\n",
    "config = InferenceConfig()\n",
    "# config.display()\n",
    "\n",
    "BEP_MODEL_PATH = os.path.join(ROOT_DIR, 'weights', '20250111-174347_nbse2_simp_bn_True_224_4__0118.h5')\n",
    "\n",
    "model_NbSe2 = modellib.MaskRCNN(mode=\"inference\", model_dir=LOGS_DIR, config=config, name='NbSe2 Fine-tuned Model')\n",
    "print(\"NbSe2 Model, loading weights {}\".format(BEP_MODEL_PATH))\n",
    "model_NbSe2.load_weights(BEP_MODEL_PATH, by_name=True)"
   ]
  },
  {
   "cell_type": "markdown",
   "metadata": {},
   "source": [
    "### **Run Model**"
   ]
  },
  {
   "cell_type": "code",
   "execution_count": 49,
   "metadata": {},
   "outputs": [],
   "source": [
    "run_model = utils.runModel(model_NbSe2, config, plot_size=15)"
   ]
  },
  {
   "cell_type": "code",
   "execution_count": 75,
   "metadata": {},
   "outputs": [
    {
     "ename": "IndexError",
     "evalue": "index 25 is out of bounds for axis 0 with size 25",
     "output_type": "error",
     "traceback": [
      "\u001b[1;31m---------------------------------------------------------------------------\u001b[0m",
      "\u001b[1;31mIndexError\u001b[0m                                Traceback (most recent call last)",
      "Cell \u001b[1;32mIn[75], line 1\u001b[0m\n\u001b[1;32m----> 1\u001b[0m \u001b[43mrun_model\u001b[49m\u001b[38;5;241;43m.\u001b[39;49m\u001b[43mrun\u001b[49m\u001b[43m(\u001b[49m\u001b[43mdataset\u001b[49m\u001b[38;5;241;43m=\u001b[39;49m\u001b[43mtest\u001b[49m\u001b[43m,\u001b[49m\u001b[43m \u001b[49m\u001b[43mimage_idx\u001b[49m\u001b[38;5;241;43m=\u001b[39;49m\u001b[38;5;241;43m25\u001b[39;49m\u001b[43m)\u001b[49m\n\u001b[0;32m      2\u001b[0m run_model\u001b[38;5;241m.\u001b[39mgt()\n",
      "File \u001b[1;32mc:\\Users\\abell\\Documents\\aa_delft\\J4\\BEP\\ai\\tdmms_DL\\bep\\utils.py:558\u001b[0m, in \u001b[0;36mrunModel.run\u001b[1;34m(self, dataset, rand, image_idx)\u001b[0m\n\u001b[0;32m    555\u001b[0m     \u001b[38;5;28mself\u001b[39m\u001b[38;5;241m.\u001b[39mdataset \u001b[38;5;241m=\u001b[39m dataset\n\u001b[0;32m    556\u001b[0m \u001b[38;5;28;01massert\u001b[39;00m \u001b[38;5;28mself\u001b[39m\u001b[38;5;241m.\u001b[39mdataset\n\u001b[1;32m--> 558\u001b[0m \u001b[38;5;28mself\u001b[39m\u001b[38;5;241m.\u001b[39mimage_id \u001b[38;5;241m=\u001b[39m \u001b[38;5;28;43mself\u001b[39;49m\u001b[38;5;241;43m.\u001b[39;49m\u001b[43mdataset\u001b[49m\u001b[38;5;241;43m.\u001b[39;49m\u001b[43mimage_ids\u001b[49m\u001b[43m[\u001b[49m\u001b[43mimage_idx\u001b[49m\u001b[43m]\u001b[49m\n\u001b[0;32m    559\u001b[0m \u001b[38;5;28;01mif\u001b[39;00m rand:\n\u001b[0;32m    560\u001b[0m     \u001b[38;5;28mself\u001b[39m\u001b[38;5;241m.\u001b[39mimage_id \u001b[38;5;241m=\u001b[39m random\u001b[38;5;241m.\u001b[39mchoice(\u001b[38;5;28mself\u001b[39m\u001b[38;5;241m.\u001b[39mdataset\u001b[38;5;241m.\u001b[39mimage_ids)\n",
      "\u001b[1;31mIndexError\u001b[0m: index 25 is out of bounds for axis 0 with size 25"
     ]
    }
   ],
   "source": [
    "run_model.run(dataset=test, image_idx=25)\n",
    "run_model.gt()"
   ]
  }
 ],
 "metadata": {
  "kernelspec": {
   "display_name": "env_tf24",
   "language": "python",
   "name": "python3"
  },
  "language_info": {
   "codemirror_mode": {
    "name": "ipython",
    "version": 3
   },
   "file_extension": ".py",
   "mimetype": "text/x-python",
   "name": "python",
   "nbconvert_exporter": "python",
   "pygments_lexer": "ipython3",
   "version": "3.8.10"
  }
 },
 "nbformat": 4,
 "nbformat_minor": 2
}
