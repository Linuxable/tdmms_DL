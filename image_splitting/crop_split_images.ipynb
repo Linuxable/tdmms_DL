{
 "cells": [
  {
   "cell_type": "markdown",
   "metadata": {},
   "source": [
    "## **Crop split images**\n",
    "\n",
    "This notebook is used to crop the example split images for the paper."
   ]
  },
  {
   "cell_type": "code",
   "execution_count": 1,
   "metadata": {},
   "outputs": [],
   "source": [
    "import os\n",
    "from PIL import Image"
   ]
  },
  {
   "cell_type": "code",
   "execution_count": 2,
   "metadata": {},
   "outputs": [],
   "source": [
    "BEP_DIR = os.path.abspath(\"../../../\")\n",
    "FIGS_DIR = os.path.join(BEP_DIR, 'paper_images')"
   ]
  },
  {
   "cell_type": "code",
   "execution_count": 14,
   "metadata": {},
   "outputs": [],
   "source": [
    "def crop_images(input_dir, output_dir, crop_box):\n",
    "    for filename in os.listdir(input_dir):\n",
    "        img_path = os.path.join(input_dir, filename)\n",
    "        img = Image.open(img_path)\n",
    "        \n",
    "        cropped_img = img.crop(crop_box)\n",
    "        \n",
    "        output_path = os.path.join(output_dir, filename)\n",
    "        cropped_img.save(output_path)\n",
    "\n",
    "input_directory = os.path.join(FIGS_DIR, 'image_splitting')\n",
    "output_directory = os.path.join(FIGS_DIR, 'image_splitting_cut')\n",
    "crop_rectangle = (1720, 1050, 2200, 1440)  # Example: (left, upper, right, lower)\n",
    "\n",
    "crop_images(input_directory, output_directory, crop_rectangle)"
   ]
  }
 ],
 "metadata": {
  "kernelspec": {
   "display_name": "env_tf24",
   "language": "python",
   "name": "python3"
  },
  "language_info": {
   "codemirror_mode": {
    "name": "ipython",
    "version": 3
   },
   "file_extension": ".py",
   "mimetype": "text/x-python",
   "name": "python",
   "nbconvert_exporter": "python",
   "pygments_lexer": "ipython3",
   "version": "3.8.10"
  }
 },
 "nbformat": 4,
 "nbformat_minor": 2
}
