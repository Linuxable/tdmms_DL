{
 "cells": [
  {
   "cell_type": "code",
   "execution_count": 3,
   "metadata": {},
   "outputs": [
    {
     "name": "stdout",
     "output_type": "stream",
     "text": [
      "Root directory: c:\\Users\\abell\\Documents\\aa_delft\\J4\\BEP\\ai\n"
     ]
    }
   ],
   "source": [
    "import os\n",
    "import sys\n",
    "\n",
    "ROOT_DIR = os.path.abspath(os.path.join('../../'))\n",
    "print('Root directory:',ROOT_DIR)\n",
    "sys.path.append(ROOT_DIR)"
   ]
  },
  {
   "cell_type": "code",
   "execution_count": 4,
   "metadata": {},
   "outputs": [],
   "source": [
    "import cv2\n",
    "import numpy as np\n",
    "\n",
    "def calc_hist(image_path):\n",
    "    # Load the image\n",
    "    image = cv2.imread(image_path)\n",
    "    if image is None:\n",
    "        raise ValueError(f\"Image at path {image_path} could not be loaded.\")\n",
    "\n",
    "    # Convert to HSV color space\n",
    "    hsv_image = cv2.cvtColor(image, cv2.COLOR_BGR2HSV)\n",
    "\n",
    "    # Calculate the histogram for H and S channels\n",
    "    hist = cv2.calcHist([hsv_image], [0, 1], None, [50, 60], [0, 180, 0, 256])\n",
    "\n",
    "    # Normalize the histogram\n",
    "    hist = cv2.normalize(hist, hist).flatten()\n",
    "    return hist\n",
    "\n",
    "def compare_hists(hist1, hist2):\n",
    "    # Compare histograms using correlation\n",
    "    return cv2.compareHist(hist1, hist2, cv2.HISTCMP_CORREL)"
   ]
  },
  {
   "cell_type": "code",
   "execution_count": 14,
   "metadata": {},
   "outputs": [],
   "source": [
    "def detect_yellow_region(image_path):\n",
    "    # Load the image\n",
    "    image = cv2.imread(image_path)\n",
    "\n",
    "    # Convert to HSV color space\n",
    "    hsv = cv2.cvtColor(image, cv2.COLOR_BGR2HSV)\n",
    "\n",
    "    # Define yellow color range in HSV\n",
    "    lower_yellow = np.array([18, 80, 200])  # Adjust as needed\n",
    "    upper_yellow = np.array([24, 130, 255])  # Adjust as needed\n",
    "\n",
    "    # Create a mask for yellow regions\n",
    "    mask = cv2.inRange(hsv, lower_yellow, upper_yellow)\n",
    "\n",
    "    # Check if there are any yellow pixels in the mask\n",
    "    if np.any(mask):\n",
    "        return 'marked'  # Yellow region found\n",
    "\n",
    "    return 'unmarked'  # No yellow region detected"
   ]
  },
  {
   "cell_type": "code",
   "execution_count": 5,
   "metadata": {},
   "outputs": [],
   "source": [
    "imgs_marked_dir = os.path.join(ROOT_DIR, 'data_afm', 'backgrounds', 'marked_sisio2', '100x')\n",
    "imgs_unmarked_dir = os.path.join(ROOT_DIR, 'data_afm', 'backgrounds', 'unmarked_sisio2', '100x')"
   ]
  },
  {
   "cell_type": "code",
   "execution_count": 23,
   "metadata": {},
   "outputs": [],
   "source": [
    "test_image1 = os.path.join(ROOT_DIR, 'data_afm', 'images', 'batch8', '02_michiel_sio2_NbSe2_f22-C1-100x_img.png') # Unmarked\n",
    "test_image2 = os.path.join(ROOT_DIR, 'data_afm', 'images', 'batch9', '02_michiel_sio2_NbSe2_f37-B5-04-100x_img.png') # Unmarked\n",
    "test_image3 = os.path.join(ROOT_DIR, 'data_afm', 'images', 'batch9', '02_michiel_sio2_NbSe2_f46-D1-05-100x_img.png') # Marked\n",
    "test_image4 = os.path.join(ROOT_DIR, 'data_afm', 'images', 'batch4', '67_sio2_NbSe2_Exfoliation_C5-84_f4_img.png') # Marked"
   ]
  },
  {
   "cell_type": "code",
   "execution_count": 24,
   "metadata": {},
   "outputs": [
    {
     "name": "stdout",
     "output_type": "stream",
     "text": [
      "marked\n"
     ]
    }
   ],
   "source": [
    "print(detect_yellow_region(test_image4))"
   ]
  },
  {
   "cell_type": "code",
   "execution_count": 9,
   "metadata": {},
   "outputs": [
    {
     "name": "stdout",
     "output_type": "stream",
     "text": [
      "Marked - unmarked\n",
      "0.7252973658716002\n",
      "0.7466897773019094\n",
      "0.7579708157523174\n",
      "0.7502338078024552\n",
      "0.7723638677693255\n",
      "0.7928610131716144\n",
      "0.7814250424324058\n",
      "0.7827510435768761\n",
      "0.8099027142098628\n",
      "\n",
      "Unmarked - unmarked\n",
      "-0.000522980307975924\n",
      "0.0020465086715758017\n",
      "-0.0004957491794877296\n",
      "-0.00035433916304072687\n",
      "0.0001476147705236678\n",
      "0.00012618948950190697\n",
      "0.003403480929969427\n",
      "0.0037403959491974425\n",
      "0.0004007529983473316\n",
      "0.0020163124712285086\n"
     ]
    }
   ],
   "source": [
    "# print('Marked - marked')\n",
    "# for i in range(len(os.listdir(imgs_marked_dir))):\n",
    "#     print(compare_hists(calc_hist(os.path.join(imgs_marked_dir, os.listdir(imgs_marked_dir)[i])), calc_hist(test_image2)))\n",
    "\n",
    "print('Marked - unmarked')\n",
    "for i in range(len(os.listdir(imgs_marked_dir))):\n",
    "    print(compare_hists(calc_hist(os.path.join(imgs_marked_dir, os.listdir(imgs_marked_dir)[i])), calc_hist(test_image1)))\n",
    "\n",
    "# print('\\nUnmarked - marked')\n",
    "# for i in range(len(os.listdir(imgs_unmarked_dir))):\n",
    "#     print(compare_hists(calc_hist(os.path.join(imgs_unmarked_dir, os.listdir(imgs_unmarked_dir)[i])), calc_hist(test_image2)))\n",
    "\n",
    "print('\\nUnmarked - unmarked')\n",
    "for i in range(len(os.listdir(imgs_unmarked_dir))):\n",
    "    print(compare_hists(calc_hist(os.path.join(imgs_unmarked_dir, os.listdir(imgs_unmarked_dir)[i])), calc_hist(test_image1)))"
   ]
  }
 ],
 "metadata": {
  "kernelspec": {
   "display_name": "env_tf24",
   "language": "python",
   "name": "python3"
  },
  "language_info": {
   "codemirror_mode": {
    "name": "ipython",
    "version": 3
   },
   "file_extension": ".py",
   "mimetype": "text/x-python",
   "name": "python",
   "nbconvert_exporter": "python",
   "pygments_lexer": "ipython3",
   "version": "3.8.10"
  }
 },
 "nbformat": 4,
 "nbformat_minor": 2
}
