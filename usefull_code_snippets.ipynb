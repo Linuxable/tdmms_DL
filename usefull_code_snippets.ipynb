{
 "cells": [
  {
   "cell_type": "markdown",
   "metadata": {},
   "source": [
    "Plot coco format annotation data"
   ]
  },
  {
   "cell_type": "code",
   "execution_count": null,
   "metadata": {},
   "outputs": [],
   "source": [
    "import matplotlib.pyplot as plt\n",
    "\n",
    "# Example annotation data\n",
    "segmentation = [871.0, 638.0, 843.0, 638.0, 849.0, 655.0, 865.0, 650.0, 871.0, 638.0]\n",
    "\n",
    "# Extract x and y coordinates\n",
    "x_coords = segmentation[0::2]\n",
    "y_coords = segmentation[1::2]\n",
    "\n",
    "# Close the polygon by adding the first point at the end\n",
    "x_coords.append(x_coords[0])\n",
    "y_coords.append(y_coords[0])\n",
    "\n",
    "# Plot the segmentation\n",
    "plt.figure()\n",
    "plt.plot(x_coords, y_coords, marker='o')\n",
    "plt.title('Segmentation Visualization')\n",
    "plt.xlabel('X')\n",
    "plt.ylabel('Y')\n",
    "plt.show()"
   ]
  },
  {
   "cell_type": "markdown",
   "metadata": {},
   "source": [
    "Label box format and coco format"
   ]
  },
  {
   "cell_type": "code",
   "execution_count": null,
   "metadata": {},
   "outputs": [],
   "source": [
    "\"\"\"\n",
    "        COCO annotation data format:\n",
    "        {\"info\": {\n",
    "                \"year\": 2024,\n",
    "                \"description\": \"\",\n",
    "                \"version\": 1.0,\n",
    "                \"date_created\": \"\",\n",
    "                \"url\": \"tudelft.nl\", \n",
    "                \"contributor\": \"Abel de Lange\"\n",
    "            }, \"annotations\": [\n",
    "                    {'image_id': 'cjuhwtptje39t0817c1a5qbjs',\n",
    "                    'area': 666.0,\n",
    "                    'segmentation': [[1966.0, 565.0, 1973.0, 579.0, 1989.0, 578.0, 2015.0, 563.0, 2020.0, 560.0, 2007.0, 556.0, 1966.0, 565.0]],\n",
    "                    'id': 3647,\n",
    "                    'iscrowd': 0,\n",
    "                    'bbox': [1966.0, 556.0, 54.0, 23.0],\n",
    "                    'category_id': 2}, ...\n",
    "                ]\n",
    "        }\n",
    "        \n",
    "        Labelbox annotation data format (one row):\n",
    "        {'data_row': {\n",
    "            'id': 'cm0wbjdqs0dij0710e1hzut23',\n",
    "            'external_id': 'flake1.jpg',\n",
    "            'row_data': 'https://storage.labelbox.com/cm0w75gn00bjr070j8cyz65w3%2F4c5f896a-4166-e1a7-0e20-336bff02b167-flake1.jpg?Expires=1726053962826&KeyName=labelbox-assets-key-3&Signature=zXSvIl25dmz2zkqXSgNfyW2si_Y'},\n",
    "            'media_attributes': {'height': 1721,\n",
    "            'width': 2560,\n",
    "            'asset_type': 'image',\n",
    "            'mime_type': 'image/jpeg',\n",
    "            'exif_rotation': '1'\n",
    "        },\n",
    "        'projects': {\n",
    "            'cm0wbkw0b09df074pd4c9fngm': {\n",
    "                'name': 'Test Annotations',\n",
    "                'labels': [{\n",
    "                    'label_kind': 'Default',\n",
    "                    'version': '1.0.0',\n",
    "                    'id': 'cm0wbp87503z4071zc6v9163l',\n",
    "                    'annotations': {\n",
    "                        'objects': [{\n",
    "                            'feature_id': 'cm0wc947z0002356qk2mp92wz',\n",
    "                            'feature_schema_id': 'cm0wc7xut0dui07z629jd771r',\n",
    "                            'name': 'Few',\n",
    "                            'value': 'few',\n",
    "                            'annotation_kind': 'ImagePolygon',\n",
    "                            'classifications': [],\n",
    "                            'polygon': [{'x': 1382.38, 'y': 678.699},\n",
    "                            {'x': 1336.38, 'y': 717.699},\n",
    "                            {'x': 1339.046, 'y': 727.033},\n",
    "                            {'x': 1384.713, 'y': 747.033},\n",
    "                            {'x': 1400.046, 'y': 756.366},\n",
    "                            {'x': 1406.38, 'y': 757.699},\n",
    "                            {'x': 1382.38, 'y': 678.699}]\n",
    "                        },\n",
    "                        {\n",
    "                            'feature_id': 'cm0wc9ikq0003356qgq07zvat',\n",
    "                            'feature_schema_id': 'cm0wc7xut0dui07z629jd771r',\n",
    "                            'name': 'Few', ...\n",
    "        \n",
    "        \"\"\""
   ]
  }
 ],
 "metadata": {
  "language_info": {
   "name": "python"
  }
 },
 "nbformat": 4,
 "nbformat_minor": 2
}
